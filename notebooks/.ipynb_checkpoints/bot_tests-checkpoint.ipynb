{
 "cells": [
  {
   "cell_type": "markdown",
   "metadata": {},
   "source": [
    "# OnchainBot Testing Notebook\n",
    "\n",
    "This notebook contains tests to:\n",
    "\n",
    "1. Test API connections for Ethereum and Solana ingestion modules.\n",
    "2. Compute and display PnL of tracked wallets over different time windows.\n"
   ]
  },
  {
   "cell_type": "markdown",
   "metadata": {},
   "source": [
    "## 1. API Connections Test\n"
   ]
  },
  {
   "cell_type": "code",
   "execution_count": 1,
   "id": "0206ae7f",
   "metadata": {},
   "outputs": [
    {
     "ename": "ModuleNotFoundError",
     "evalue": "No module named 'ingestion'",
     "output_type": "error",
     "traceback": [
      "\u001b[31m---------------------------------------------------------------------------\u001b[39m",
      "\u001b[31mModuleNotFoundError\u001b[39m                       Traceback (most recent call last)",
      "\u001b[36mCell\u001b[39m\u001b[36m \u001b[39m\u001b[32mIn[1]\u001b[39m\u001b[32m, line 11\u001b[39m\n\u001b[32m      8\u001b[39m \u001b[38;5;28;01mfrom\u001b[39;00m\u001b[38;5;250m \u001b[39m\u001b[34;01mpathlib\u001b[39;00m\u001b[38;5;250m \u001b[39m\u001b[38;5;28;01mimport\u001b[39;00m Path\n\u001b[32m     10\u001b[39m \u001b[38;5;66;03m# Ethereum ingestion\u001b[39;00m\n\u001b[32m---> \u001b[39m\u001b[32m11\u001b[39m \u001b[38;5;28;01mfrom\u001b[39;00m\u001b[38;5;250m \u001b[39m\u001b[34;01mingestion\u001b[39;00m\u001b[34;01m.\u001b[39;00m\u001b[34;01meth\u001b[39;00m\u001b[38;5;250m \u001b[39m\u001b[38;5;28;01mimport\u001b[39;00m load_wallets \u001b[38;5;28;01mas\u001b[39;00m load_eth_wallets, event_bus \u001b[38;5;28;01mas\u001b[39;00m eth_event_bus\n\u001b[32m     12\u001b[39m \u001b[38;5;66;03m# Solana ingestion\u001b[39;00m\n\u001b[32m     13\u001b[39m \u001b[38;5;28;01mfrom\u001b[39;00m\u001b[38;5;250m \u001b[39m\u001b[34;01mingestion\u001b[39;00m\u001b[34;01m.\u001b[39;00m\u001b[34;01msol\u001b[39;00m\u001b[38;5;250m \u001b[39m\u001b[38;5;28;01mimport\u001b[39;00m load_wallets \u001b[38;5;28;01mas\u001b[39;00m load_sol_wallets, get_jupiter_price, event_bus \u001b[38;5;28;01mas\u001b[39;00m sol_event_bus\n",
      "\u001b[31mModuleNotFoundError\u001b[39m: No module named 'ingestion'"
     ]
    }
   ],
   "source": [
    "# Load environment variables\n",
    "from dotenv import load_dotenv\n",
    "import os\n",
    "\n",
    "load_dotenv()\n",
    "\n",
    "import asyncio\n",
    "from pathlib import Path\n",
    "\n",
    "# Ethereum ingestion\n",
    "from ingestion.eth import load_wallets as load_eth_wallets, event_bus as eth_event_bus\n",
    "# Solana ingestion\n",
    "from ingestion.sol import load_wallets as load_sol_wallets, get_jupiter_price, event_bus as sol_event_bus\n",
    "\n",
    "# Test wallet loading\n",
    "eth_wallet_file = Path(os.getenv(\"ETH_WALLETS_FILE\", \"wallets_eth.json\"))\n",
    "sol_wallet_file = Path(os.getenv(\"SOL_WALLETS_FILE\", \"wallets_sol.json\"))\n",
    "eth_wallets = asyncio.run(load_eth_wallets(eth_wallet_file))\n",
    "sol_wallets = asyncio.run(load_sol_wallets(sol_wallet_file))\n",
    "\n",
    "print(\"ETH wallets:\", eth_wallets)\n",
    "print(\"SOL wallets:\", sol_wallets)\n",
    "\n",
    "# Test Jupiter price quote for a sample swap (lamports)\n",
    "if len(sol_wallets) >= 2:\n",
    "    token_in = sol_wallets[0]\n",
    "    token_out = sol_wallets[1]\n",
    "    sample_amount = 1_000_000\n",
    "    price = asyncio.run(get_jupiter_price(token_in, token_out, sample_amount))\n",
    "    print(f\"Sample Jupiter quote for swapping {sample_amount} lamports from {token_in} to {token_out}: {price}\")\n",
    "else:\n",
    "    print(\"Not enough SOL wallets to test Jupiter price\")\n"
   ]
  },
  {
   "cell_type": "markdown",
   "id": "469180ca",
   "metadata": {},
   "source": [
    "## 2. Wallet PnL Analysis\n"
   ]
  },
  {
   "cell_type": "code",
   "execution_count": null,
   "id": "27129b8b",
   "metadata": {},
   "outputs": [],
   "source": [
    "import os\n",
    "import asyncio\n",
    "from datetime import datetime, timedelta\n",
    "\n",
    "import pandas as pd\n",
    "from web3 import Web3\n",
    "from IPython.display import display\n",
    "\n",
    "# Load wallets\n",
    "eth_wallets = pd.read_json(os.getenv(\"ETH_WALLETS_FILE\", \"wallets_eth.json\"))[\"address\"].tolist()\n",
    "sol_wallets = pd.read_json(os.getenv(\"SOL_WALLETS_FILE\", \"wallets_sol.json\"))[\"address\"].tolist()\n",
    "\n",
    "# Initialize Web3 provider (replace with your Alchemy HTTP URL)\n",
    "alchemy_ws = os.getenv(\"ALCHEMY_WS_URL\", \"\")\n",
    "alchemy_http = alchemy_ws.replace(\"wss://\", \"https://\", 1) if alchemy_ws.startswith(\"wss\") else alchemy_ws\n",
    "w3 = Web3(Web3.HTTPProvider(alchemy_http))\n",
    "\n",
    "def fetch_eth_swaps(wallet: str, start_timestamp: int):\n",
    "    \"\"\"\n",
    "    Placeholder: Fetch swap transactions for an ETH wallet since start_timestamp.\n",
    "    Implement using Alchemy transaction API or web3 filters.\n",
    "    \"\"\"\n",
    "    return []\n",
    "\n",
    "async def fetch_sol_swaps(wallet: str, start_timestamp: int):\n",
    "    \"\"\"\n",
    "    Placeholder: Fetch decoded swap events for a SOL wallet since start_timestamp.\n",
    "    Could reuse ingestion.sol subscription or REST endpoints.\n",
    "    \"\"\"\n",
    "    return []\n",
    "\n",
    "# Define analysis periods\n",
    "now = datetime.utcnow()\n",
    "periods = {\n",
    "    'Last Week': now - timedelta(weeks=1),\n",
    "    'Last Month': now - timedelta(days=30),\n",
    "    'Last 3 Months': now - timedelta(days=90),\n",
    "    'Last Year': now - timedelta(days=365),\n",
    "}\n",
    "\n",
    "# Compute PnL summary\n",
    "pnl_summary = {}\n",
    "for label, start_dt in periods.items():\n",
    "    start_ts = int(start_dt.timestamp())\n",
    "    entries = []\n",
    "    # ETH PnL\n",
    "    for w in eth_wallets:\n",
    "        swaps = fetch_eth_swaps(w, start_ts)\n",
    "        pnl = sum([tx.get('amountOutMin', 0) - tx.get('amountIn', 0) for tx in swaps])\n",
    "        entries.append({'chain': 'ETH', 'wallet': w, 'pnl': pnl, 'tx_count': len(swaps)})\n",
    "    # SOL PnL\n",
    "    for w in sol_wallets:\n",
    "        swaps = asyncio.run(fetch_sol_swaps(w, start_ts))\n",
    "        # Example: swap dict may include 'amountIn', 'amountOutMin' and 'price'\n",
    "        pnl = sum([(tx.get('amountOutMin', 0) * tx.get('price', 1)) - tx.get('amountIn', 0) for tx in swaps])\n",
    "        entries.append({'chain': 'SOL', 'wallet': w, 'pnl': pnl, 'tx_count': len(swaps)})\n",
    "    pnl_summary[label] = pd.DataFrame(entries)\n",
    "    print(f\"\\n## {label}\")\\n\n",
    "    display(pnl_summary[label])\n"
   ]
  }
 ],
 "metadata": {
  "kernelspec": {
   "display_name": "Python 3",
   "language": "python",
   "name": "python3"
  },
  "language_info": {
   "codemirror_mode": {
    "name": "ipython",
    "version": 3
   },
   "file_extension": ".py",
   "mimetype": "text/x-python",
   "name": "python",
   "nbconvert_exporter": "python",
   "pygments_lexer": "ipython3",
   "version": "3.12.11"
  }
 },
 "nbformat": 4,
 "nbformat_minor": 5
}
